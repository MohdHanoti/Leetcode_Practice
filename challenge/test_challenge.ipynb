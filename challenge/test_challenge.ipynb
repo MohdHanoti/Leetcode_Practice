{
 "cells": [
  {
   "cell_type": "markdown",
   "metadata": {},
   "source": [
    "## Leet code\n",
    "\n",
    "For today you will be solving some selected challenges on leetcode, please create an account if you don't have then\n",
    "Follow the links below:\n",
    "read them carefully and solve them then copy-paste your solution below in Code Block\n"
   ]
  },
  {
   "cell_type": "markdown",
   "metadata": {},
   "source": [
    "### **Question-01**:\n",
    "-----\n"
   ]
  },
  {
   "cell_type": "markdown",
   "metadata": {},
   "source": [
    "##### [Roman-To-Integer](https://leetcode.com/problems/roman-to-integer/)\n",
    "\n",
    "Solution:\n"
   ]
  },
  {
   "cell_type": "code",
   "execution_count": null,
   "metadata": {},
   "outputs": [
    {
     "ename": "",
     "evalue": "",
     "output_type": "error",
     "traceback": [
      "\u001b[1;31mRunning cells with 'Python 2.7.18 64-bit' requires ipykernel package.\n",
      "\u001b[1;31mRun the following command to install 'ipykernel' into the Python environment. \n",
      "\u001b[1;31mCommand: '/bin/python2 -m pip install ipykernel -U --user --force-reinstall'"
     ]
    }
   ],
   "source": [
    "class Solution:\n",
    "    def romanToInt(self, s: str) -> int:\n",
    "        symbol={\n",
    "            \"I\":1,\n",
    "            \"V\":5,\n",
    "            \"X\":10,\n",
    "            \"L\":50,\n",
    "            \"C\":100,\n",
    "            \"D\":500,\n",
    "            \"M\":1000\n",
    "        }\n",
    "        subtraction={\n",
    "            \"IV\":4,\n",
    "            \"IX\":9,\n",
    "            \"XL\":40,\n",
    "            \"XC\":90,\n",
    "            \"CD\":400,\n",
    "            \"CM\":900\n",
    "        }\n",
    "        \n",
    "        array_s=[*s]\n",
    "        sum=0\n",
    "        for i in range(0,len(array_s)):\n",
    "            if array_s[i] not in symbol:\n",
    "                return \"please enter a valid roman symbol\"\n",
    "            if array_s[i] in symbol:\n",
    "                    sum+=symbol[array_s[i]]\n",
    "            if i+1 <= len(array_s)-1:\n",
    "                if array_s[i]+array_s[i+1] in subtraction:\n",
    "                    sum+=subtraction[array_s[i]+array_s[i+1]]\n",
    "                    sum-=symbol[array_s[i]]\n",
    "                    sum-=symbol[array_s[i+1]]\n",
    "                \n",
    "                       \n",
    "        return sum    \n",
    "        "
   ]
  },
  {
   "cell_type": "markdown",
   "metadata": {},
   "source": [
    "##### testing:"
   ]
  },
  {
   "cell_type": "code",
   "execution_count": null,
   "metadata": {},
   "outputs": [
    {
     "ename": "",
     "evalue": "",
     "output_type": "error",
     "traceback": [
      "\u001b[1;31mRunning cells with 'Python 2.7.18 64-bit' requires ipykernel package.\n",
      "\u001b[1;31mRun the following command to install 'ipykernel' into the Python environment. \n",
      "\u001b[1;31mCommand: '/bin/python2 -m pip install ipykernel -U --user --force-reinstall'"
     ]
    }
   ],
   "source": [
    "\n",
    "assert  58  ==  romanToInt(\"LVIII\")\n",
    "assert 1994 ==  romanToInt(\"MCMXCIV\")\n",
    "assert 3    ==  romanToInt(\"III\")"
   ]
  },
  {
   "cell_type": "markdown",
   "metadata": {},
   "source": [
    "##### Big(O):Time Complexity: Big O(n) ,Space Complexity: Big O(n)"
   ]
  },
  {
   "cell_type": "markdown",
   "metadata": {},
   "source": []
  },
  {
   "cell_type": "markdown",
   "metadata": {},
   "source": [
    "### **Question-02**:\n",
    "--------"
   ]
  },
  {
   "cell_type": "markdown",
   "metadata": {},
   "source": [
    "##### [single-number](https://leetcode.com/problems/single-number/)\n",
    "\n",
    "Solution:\n"
   ]
  },
  {
   "cell_type": "code",
   "execution_count": null,
   "metadata": {},
   "outputs": [
    {
     "ename": "",
     "evalue": "",
     "output_type": "error",
     "traceback": [
      "\u001b[1;31mRunning cells with 'Python 2.7.18 64-bit' requires ipykernel package.\n",
      "\u001b[1;31mRun the following command to install 'ipykernel' into the Python environment. \n",
      "\u001b[1;31mCommand: '/bin/python2 -m pip install ipykernel -U --user --force-reinstall'"
     ]
    }
   ],
   "source": [
    "class Solution:\n",
    "    def singleNumber(self, nums: List[int]) -> int:\n",
    "        \n",
    "        for i in range(0,len(nums)):\n",
    "            if nums.count(nums[i])== 1:\n",
    "                return   nums[i]      "
   ]
  },
  {
   "cell_type": "markdown",
   "metadata": {},
   "source": [
    "##### testing:"
   ]
  },
  {
   "cell_type": "code",
   "execution_count": null,
   "metadata": {},
   "outputs": [],
   "source": [
    "\n",
    "assert 1 ==  singleNumber([2,2,1])\n",
    "assert 4 ==  singleNumber([4,1,2,1,2])\n",
    "assert 1 ==  singleNumber([1])"
   ]
  },
  {
   "cell_type": "markdown",
   "metadata": {},
   "source": [
    "##### Big(O):Time Complexity: Big O(n^2) ,Space Complexity: Big O(n)"
   ]
  },
  {
   "cell_type": "markdown",
   "metadata": {},
   "source": []
  },
  {
   "cell_type": "markdown",
   "metadata": {},
   "source": [
    "### **Question-03**:\n",
    "------"
   ]
  },
  {
   "cell_type": "markdown",
   "metadata": {},
   "source": [
    "##### [Move Zeroes](https://leetcode.com/problems/move-zeroes/)\n",
    "\n",
    "Solution:\n"
   ]
  },
  {
   "cell_type": "code",
   "execution_count": null,
   "metadata": {},
   "outputs": [],
   "source": [
    "class Solution:\n",
    "    def moveZeroes(self, nums: List[int]) -> None:\n",
    "        \"\"\"\n",
    "        Do not return anything, modify nums in-place instead.\n",
    "        \"\"\"\n",
    "        nonzero_place=0\n",
    "        for i in range(len(nums)):\n",
    "            if nums[i]!=0:\n",
    "                nums[nonzero_place],nums[i]=nums[i],nums[nonzero_place] \n",
    "                nonzero_place+=1\n",
    "    "
   ]
  },
  {
   "cell_type": "markdown",
   "metadata": {},
   "source": [
    "##### testing:"
   ]
  },
  {
   "cell_type": "code",
   "execution_count": null,
   "metadata": {},
   "outputs": [],
   "source": [
    "assert[1,3,12,0,0]==  moveZeroes([0,1,0,3,12])\n",
    "assert [0] ==  moveZeroes([0])\n",
    "assert [3,2,4,0,0,0] ==  moveZeroes([0,3,0,0,2,4])"
   ]
  },
  {
   "cell_type": "markdown",
   "metadata": {},
   "source": [
    "##### Big(O):Time Complexity: Big O(n) ,Space Complexity: Big O(n)"
   ]
  },
  {
   "cell_type": "markdown",
   "metadata": {},
   "source": []
  },
  {
   "cell_type": "markdown",
   "metadata": {},
   "source": [
    "### **Question-04**:\n",
    "------"
   ]
  },
  {
   "cell_type": "markdown",
   "metadata": {},
   "source": [
    "##### [longest-common-prefix](https://leetcode.com/problems/longest-common-prefix/)\n",
    "\n",
    "Solution:\n"
   ]
  },
  {
   "cell_type": "code",
   "execution_count": null,
   "metadata": {},
   "outputs": [
    {
     "ename": "",
     "evalue": "",
     "output_type": "error",
     "traceback": [
      "\u001b[1;31mRunning cells with 'Python 2.7.18 64-bit' requires ipykernel package.\n",
      "\u001b[1;31mRun the following command to install 'ipykernel' into the Python environment. \n",
      "\u001b[1;31mCommand: '/bin/python2 -m pip install ipykernel -U --user --force-reinstall'"
     ]
    }
   ],
   "source": [
    "class Solution:\n",
    "    def longestCommonPrefix(self, strs: List[str]) -> str:\n",
    "        size = len(strs)\n",
    "  \n",
    "         \n",
    "        if (size == 0):\n",
    "            return \"\"\n",
    "  \n",
    "        if (size == 1):\n",
    "            return strs[0]\n",
    "  \n",
    "    \n",
    "        strs.sort()\n",
    "      \n",
    "        \n",
    "    \n",
    "        end = min(len(strs[0]), len(strs[size - 1]))\n",
    "  \n",
    "        i = 0\n",
    "        while (i < end and \n",
    "               strs[0][i] == strs[size - 1][i]):\n",
    "            i += 1\n",
    "  \n",
    "        pre = strs[0][0: i]\n",
    "        return pre"
   ]
  },
  {
   "cell_type": "markdown",
   "metadata": {},
   "source": [
    "##### testing:"
   ]
  },
  {
   "cell_type": "code",
   "execution_count": null,
   "metadata": {},
   "outputs": [
    {
     "ename": "",
     "evalue": "",
     "output_type": "error",
     "traceback": [
      "\u001b[1;31mRunning cells with 'Python 2.7.18 64-bit' requires ipykernel package.\n",
      "\u001b[1;31mRun the following command to install 'ipykernel' into the Python environment. \n",
      "\u001b[1;31mCommand: '/bin/python2 -m pip install ipykernel -U --user --force-reinstall'"
     ]
    }
   ],
   "source": [
    "assert\"fl\"==  longestCommonPrefix([\"flower\",\"flow\",\"flight\"])\n",
    "assert  \"\" ==  longestCommonPrefix ([\"dog\",\"racecar\",\"car\"])\n",
    "assert \"tra\" ==  longestCommonPrefix([\"transform\",\"transcribe\",\"train\"])"
   ]
  },
  {
   "cell_type": "markdown",
   "metadata": {},
   "source": [
    "##### Big(O):Time Complexity: Big O( n * log n ) ,Space Complexity: Big O(n)"
   ]
  },
  {
   "cell_type": "markdown",
   "metadata": {},
   "source": []
  }
 ],
 "metadata": {
  "kernelspec": {
   "display_name": "Python 2.7.18 64-bit",
   "language": "python",
   "name": "python3"
  },
  "language_info": {
   "codemirror_mode": {
    "name": "ipython",
    "version": 3
   },
   "file_extension": ".py",
   "mimetype": "text/x-python",
   "name": "python",
   "nbconvert_exporter": "python",
   "pygments_lexer": "ipython3",
   "version": "2.7.18"
  },
  "orig_nbformat": 4,
  "vscode": {
   "interpreter": {
    "hash": "e55666fbbf217aa3df372b978577f47b6009e2f78e2ec76a584f49cd54a1e62c"
   }
  }
 },
 "nbformat": 4,
 "nbformat_minor": 2
}
